{
 "cells": [
  {
   "cell_type": "code",
   "execution_count": 1,
   "metadata": {},
   "outputs": [],
   "source": [
    "import cv2\n",
    "from imutils.video import FileVideoStream\n",
    "from imutils.video import FPS\n",
    "from path import Path as path\n",
    "import numpy as np\n",
    "import time"
   ]
  },
  {
   "cell_type": "code",
   "execution_count": 2,
   "metadata": {},
   "outputs": [],
   "source": [
    "vid = r\"D:\\JJ\\Videos\\hunter\\hunter74A.avi\"\n",
    "vid2 = r\"D:\\JJ\\Videos\\hunter\\hunter124.ogg\"\n",
    "outdir = path(\"outdir\").mkdir_p()\n"
   ]
  },
  {
   "cell_type": "code",
   "execution_count": 12,
   "metadata": {},
   "outputs": [
    {
     "name": "stdout",
     "output_type": "stream",
     "text": [
      "30\n"
     ]
    }
   ],
   "source": [
    "video = cv2.VideoCapture(vid)\n",
    "myfps = int(round(video.get(cv2.CAP_PROP_FPS)))\n",
    "del video\n",
    "print(myfps)"
   ]
  },
  {
   "cell_type": "code",
   "execution_count": 13,
   "metadata": {},
   "outputs": [],
   "source": [
    "i = 0\n",
    "fvs = FileVideoStream(vid).start()\n",
    "time.sleep(1.0)\n",
    "# start the FPS timer\n",
    "fps = FPS().start()\n",
    "\n",
    "while fvs.more():\n",
    "    # grab the frame from the threaded video file stream, resize\n",
    "    # it, and convert it to grayscale (while still retaining 3\n",
    "    # channels)\n",
    "    frame = fvs.read()\n",
    "    if i % myfps == 0:\n",
    "        cv2.imwrite(\"{}/{}.jpg\".format(str(outdir), i), frame)\n",
    "    fps.update()\n",
    "    i += 1"
   ]
  },
  {
   "cell_type": "code",
   "execution_count": 15,
   "metadata": {},
   "outputs": [
    {
     "data": {
      "text/plain": [
       "'00050'"
      ]
     },
     "execution_count": 15,
     "metadata": {},
     "output_type": "execute_result"
    }
   ],
   "source": [
    "\"50\".zfill(5)"
   ]
  },
  {
   "cell_type": "code",
   "execution_count": 3,
   "metadata": {},
   "outputs": [],
   "source": [
    "def extract_frames(vidfile, output_folder, every_n = 10):\n",
    "    i = 0\n",
    "    s = 0\n",
    "    path(output_folder).mkdir_p()\n",
    "    fname = path(vidfile).name\n",
    "    fvs = FileVideoStream(vidfile).start()\n",
    "    time.sleep(1.0)\n",
    "    # start the FPS timer\n",
    "    fps = FPS().start()\n",
    "    while fvs.more():\n",
    "        # grab the frame from the threaded video file stream, resize\n",
    "        # it, and convert it to grayscale (while still retaining 3\n",
    "        # channels)\n",
    "        frame = fvs.read()\n",
    "        if i % every_n == 0:\n",
    "            suffix = str(s).zfill(6)\n",
    "            cv2.imwrite(\"{}/{}_{}.jpg\".format(output_folder, fname, suffix), frame)\n",
    "            s += 1\n",
    "        fps.update()\n",
    "        i += 1"
   ]
  },
  {
   "cell_type": "code",
   "execution_count": 53,
   "metadata": {},
   "outputs": [],
   "source": [
    "extract_frames(vid, \"outdir\")"
   ]
  },
  {
   "cell_type": "code",
   "execution_count": 4,
   "metadata": {},
   "outputs": [],
   "source": [
    "extract_frames(vid2, \"outdir124\")"
   ]
  },
  {
   "cell_type": "code",
   "execution_count": 7,
   "metadata": {},
   "outputs": [],
   "source": [
    "def get_fps(vidfile):\n",
    "    v = cv2.VideoCapture(vidfile)\n",
    "    return v.get(cv2.CAP_PROP_FPS)\n"
   ]
  },
  {
   "cell_type": "code",
   "execution_count": 8,
   "metadata": {},
   "outputs": [
    {
     "data": {
      "text/plain": [
       "29.97"
      ]
     },
     "execution_count": 8,
     "metadata": {},
     "output_type": "execute_result"
    }
   ],
   "source": [
    "get_fps(vid)"
   ]
  },
  {
   "cell_type": "code",
   "execution_count": 57,
   "metadata": {},
   "outputs": [
    {
     "name": "stdout",
     "output_type": "stream",
     "text": [
      "100\n",
      "200\n",
      "300\n",
      "400\n",
      "500\n",
      "600\n",
      "700\n",
      "800\n",
      "900\n",
      "1000\n",
      "1100\n",
      "1200\n",
      "1300\n",
      "1400\n",
      "1500\n",
      "1600\n",
      "1700\n",
      "1800\n",
      "1900\n",
      "2000\n",
      "2100\n",
      "2200\n",
      "2300\n",
      "2400\n",
      "2500\n",
      "2600\n",
      "2700\n",
      "2800\n",
      "2900\n",
      "3000\n",
      "3100\n",
      "3200\n",
      "3300\n",
      "3400\n",
      "3500\n",
      "3600\n",
      "3700\n",
      "3800\n",
      "3900\n",
      "4000\n",
      "4100\n",
      "4200\n",
      "4300\n",
      "4400\n",
      "4500\n",
      "4600\n",
      "4700\n",
      "4800\n",
      "4900\n",
      "5000\n",
      "5100\n",
      "5200\n",
      "5300\n",
      "5400\n",
      "5500\n",
      "5600\n",
      "5700\n",
      "5800\n",
      "5900\n",
      "6000\n",
      "6100\n",
      "6200\n",
      "6300\n",
      "6400\n",
      "6500\n",
      "6600\n",
      "6700\n",
      "6800\n",
      "6900\n",
      "7000\n",
      "7100\n",
      "7200\n",
      "7300\n",
      "7400\n",
      "7500\n",
      "7600\n",
      "7700\n",
      "7800\n",
      "7900\n",
      "8000\n",
      "8100\n",
      "8200\n",
      "8300\n",
      "8400\n",
      "8500\n",
      "8600\n",
      "8700\n",
      "8800\n",
      "8900\n",
      "9000\n",
      "9100\n",
      "9200\n",
      "9300\n",
      "9400\n",
      "9500\n",
      "9600\n",
      "9700\n",
      "9800\n",
      "9900\n",
      "10000\n",
      "10100\n",
      "10200\n",
      "10300\n",
      "10400\n",
      "10500\n",
      "10600\n",
      "10700\n",
      "10800\n",
      "10900\n",
      "11000\n",
      "11100\n",
      "11200\n",
      "11300\n",
      "11400\n",
      "11500\n"
     ]
    },
    {
     "data": {
      "text/plain": [
       "10.0"
      ]
     },
     "execution_count": 57,
     "metadata": {},
     "output_type": "execute_result"
    }
   ],
   "source": [
    "get_fps(vid2)"
   ]
  },
  {
   "cell_type": "code",
   "execution_count": 51,
   "metadata": {},
   "outputs": [],
   "source": [
    "def simple_extract(vidfile, output_folder, every_n = 10):\n",
    "    i = 0\n",
    "    s = 0\n",
    "    path(output_folder).mkdir_p()\n",
    "    fname = path(vidfile).name\n",
    "    stream = cv2.VideoCapture(vidfile)\n",
    "    while True:\n",
    "        # grab the frame from the threaded video file stream\n",
    "        (grabbed, frame) = stream.read()\n",
    "        # if the frame was not grabbed, then we have reached the end\n",
    "        # of the stream\n",
    "        if not grabbed:\n",
    "            break\n",
    "        if i % every_n == 0:\n",
    "            suffix = str(s).zfill(6)\n",
    "            cv2.imwrite(\"{}/{}_{}.jpg\".format(output_folder, fname, suffix), frame)\n",
    "            s += 1\n",
    "        i += 1"
   ]
  },
  {
   "cell_type": "code",
   "execution_count": 49,
   "metadata": {},
   "outputs": [],
   "source": [
    "def simple_extract2(vidfile, output_folder, spf = 1.0):\n",
    "    i = 0\n",
    "    s = 0\n",
    "    t = 0\n",
    "    path(output_folder).mkdir_p()\n",
    "    fname = path(vidfile).name\n",
    "    stream = cv2.VideoCapture(vidfile)\n",
    "    while True:\n",
    "        # grab the frame from the threaded video file stream\n",
    "        (grabbed, frame) = stream.read()\n",
    "        # if the frame was not grabbed, then we have reached the end\n",
    "        # of the stream\n",
    "        if not grabbed:\n",
    "            break\n",
    "        now = stream.get(cv2.CAP_PROP_POS_MSEC)/1000\n",
    "        if (now - t) >= spf:\n",
    "            suffix = str(s).zfill(6)\n",
    "            cv2.imwrite(\"{}/{}_{}.jpg\".format(output_folder, fname, suffix), frame)\n",
    "            s += 1\n",
    "            t = now\n",
    "            print(i)\n",
    "        i += 1"
   ]
  },
  {
   "cell_type": "code",
   "execution_count": 50,
   "metadata": {},
   "outputs": [
    {
     "name": "stdout",
     "output_type": "stream",
     "text": [
      "29\n",
      "59\n",
      "89\n",
      "119\n",
      "149\n",
      "179\n",
      "209\n",
      "239\n",
      "269\n",
      "299\n",
      "329\n",
      "359\n",
      "389\n",
      "419\n",
      "449\n",
      "479\n",
      "509\n",
      "539\n",
      "569\n",
      "599\n",
      "629\n",
      "659\n",
      "689\n",
      "719\n",
      "749\n",
      "779\n",
      "809\n",
      "839\n",
      "869\n",
      "899\n",
      "929\n",
      "959\n",
      "989\n",
      "1019\n",
      "1049\n",
      "1079\n",
      "1109\n",
      "1139\n",
      "1169\n",
      "1199\n",
      "1229\n",
      "1259\n",
      "1289\n",
      "1319\n",
      "1349\n",
      "1379\n",
      "1409\n",
      "1439\n",
      "1469\n",
      "1499\n",
      "1529\n",
      "1559\n",
      "1589\n",
      "1619\n",
      "1649\n",
      "1679\n",
      "1709\n",
      "1739\n",
      "1769\n",
      "1799\n",
      "1829\n",
      "1859\n",
      "1889\n",
      "1919\n",
      "1949\n",
      "1979\n",
      "2009\n",
      "2039\n",
      "2069\n",
      "2099\n",
      "2129\n",
      "2159\n",
      "2189\n",
      "2219\n",
      "2249\n",
      "2279\n",
      "2309\n",
      "2339\n",
      "2369\n",
      "2399\n",
      "2429\n",
      "2459\n",
      "2489\n",
      "2519\n",
      "2549\n",
      "2579\n",
      "2609\n",
      "2639\n",
      "2669\n",
      "2699\n",
      "2729\n",
      "2759\n",
      "2789\n",
      "2819\n",
      "2849\n",
      "2879\n",
      "2909\n",
      "2939\n",
      "2969\n",
      "2999\n",
      "3029\n",
      "3059\n",
      "3089\n",
      "3119\n",
      "3149\n",
      "3179\n",
      "3209\n",
      "3239\n",
      "3269\n",
      "3299\n",
      "3329\n",
      "3359\n",
      "3389\n",
      "3419\n",
      "3449\n",
      "3479\n",
      "3509\n",
      "3539\n",
      "3569\n",
      "3599\n",
      "3629\n",
      "3659\n",
      "3689\n",
      "3719\n",
      "3749\n",
      "3779\n",
      "3809\n",
      "3839\n",
      "3869\n",
      "3899\n",
      "3929\n",
      "3959\n",
      "3989\n",
      "4019\n",
      "4049\n",
      "4079\n",
      "4109\n",
      "4139\n",
      "4169\n",
      "4199\n",
      "4229\n",
      "4259\n",
      "4289\n",
      "4319\n",
      "4349\n",
      "4379\n",
      "4409\n",
      "4439\n",
      "4469\n",
      "4499\n",
      "4529\n",
      "4559\n",
      "4589\n",
      "4619\n",
      "4649\n",
      "4679\n",
      "4709\n",
      "4739\n",
      "4769\n",
      "4799\n",
      "4829\n",
      "4859\n",
      "4889\n",
      "4919\n",
      "4949\n",
      "4979\n",
      "5009\n",
      "5039\n",
      "5069\n",
      "5099\n",
      "5129\n",
      "5159\n",
      "5189\n",
      "5219\n",
      "5249\n",
      "5279\n",
      "5309\n",
      "5339\n",
      "5369\n",
      "5399\n",
      "5429\n",
      "5459\n",
      "5489\n",
      "5519\n",
      "5549\n",
      "5579\n",
      "5609\n",
      "5639\n",
      "5669\n",
      "5699\n",
      "5729\n",
      "5759\n",
      "5789\n",
      "5819\n",
      "5849\n",
      "5879\n",
      "5909\n",
      "5939\n",
      "5969\n",
      "5999\n",
      "6029\n",
      "6059\n",
      "6089\n",
      "6119\n",
      "6149\n",
      "6179\n",
      "6209\n",
      "6239\n",
      "6269\n",
      "6299\n",
      "6329\n",
      "6359\n",
      "6389\n",
      "6419\n",
      "6449\n",
      "6479\n",
      "6509\n",
      "6539\n",
      "6569\n",
      "6599\n",
      "6629\n",
      "6659\n",
      "6689\n",
      "6719\n",
      "6749\n",
      "6779\n",
      "6809\n",
      "6839\n",
      "6869\n",
      "6899\n",
      "6929\n",
      "6959\n",
      "6989\n",
      "7019\n",
      "7049\n",
      "7079\n",
      "7109\n",
      "7139\n",
      "7169\n",
      "7199\n",
      "7229\n",
      "7259\n",
      "7289\n",
      "7319\n",
      "7349\n",
      "7379\n",
      "7409\n",
      "7439\n",
      "7469\n",
      "7499\n",
      "7529\n",
      "7559\n",
      "7589\n",
      "7619\n",
      "7649\n",
      "7679\n",
      "7709\n",
      "7739\n",
      "7769\n",
      "7799\n",
      "7829\n",
      "7859\n",
      "7889\n",
      "7919\n",
      "7949\n",
      "7979\n",
      "8009\n",
      "8039\n",
      "8069\n",
      "8099\n",
      "8129\n",
      "8159\n",
      "8189\n",
      "8219\n",
      "8249\n",
      "8279\n",
      "8309\n",
      "8339\n",
      "8369\n",
      "8399\n",
      "8429\n",
      "8459\n",
      "8489\n",
      "8519\n",
      "8549\n",
      "8579\n",
      "8609\n",
      "8639\n",
      "8669\n",
      "8699\n"
     ]
    }
   ],
   "source": [
    "simple_extract2(vid, \"outdir2\")"
   ]
  },
  {
   "cell_type": "code",
   "execution_count": 22,
   "metadata": {},
   "outputs": [
    {
     "data": {
      "text/plain": [
       "10.392857142857142"
      ]
     },
     "execution_count": 22,
     "metadata": {},
     "output_type": "execute_result"
    }
   ],
   "source": [
    "v=cv2.VideoCapture('sample.avi')\n",
    "v.set(cv2.CAP_PROP_POS_AVI_RATIO,1)\n",
    "True\n",
    "v.get(cv2.CAP_PROP_POS_MSEC)\n",
    "213400.0"
   ]
  },
  {
   "cell_type": "code",
   "execution_count": 25,
   "metadata": {},
   "outputs": [],
   "source": [
    "v=cv2.VideoCapture(vid)"
   ]
  },
  {
   "cell_type": "code",
   "execution_count": 26,
   "metadata": {},
   "outputs": [
    {
     "data": {
      "text/plain": [
       "True"
      ]
     },
     "execution_count": 26,
     "metadata": {},
     "output_type": "execute_result"
    }
   ],
   "source": [
    "v.set(cv2.CAP_PROP_POS_AVI_RATIO,1)"
   ]
  },
  {
   "cell_type": "code",
   "execution_count": 27,
   "metadata": {},
   "outputs": [
    {
     "data": {
      "text/plain": [
       "871338.004671338"
      ]
     },
     "execution_count": 27,
     "metadata": {},
     "output_type": "execute_result"
    }
   ],
   "source": [
    "v.get(cv2.CAP_PROP_POS_MSEC)"
   ]
  },
  {
   "cell_type": "code",
   "execution_count": 28,
   "metadata": {},
   "outputs": [],
   "source": [
    "del v"
   ]
  },
  {
   "cell_type": "code",
   "execution_count": 29,
   "metadata": {},
   "outputs": [
    {
     "data": {
      "text/plain": [
       "871"
      ]
     },
     "execution_count": 29,
     "metadata": {},
     "output_type": "execute_result"
    }
   ],
   "source": [
    "14*60+31"
   ]
  },
  {
   "cell_type": "code",
   "execution_count": null,
   "metadata": {},
   "outputs": [],
   "source": []
  }
 ],
 "metadata": {
  "kernelspec": {
   "display_name": "Python 3",
   "language": "python",
   "name": "python3"
  },
  "language_info": {
   "codemirror_mode": {
    "name": "ipython",
    "version": 3
   },
   "file_extension": ".py",
   "mimetype": "text/x-python",
   "name": "python",
   "nbconvert_exporter": "python",
   "pygments_lexer": "ipython3",
   "version": "3.6.8"
  }
 },
 "nbformat": 4,
 "nbformat_minor": 2
}
